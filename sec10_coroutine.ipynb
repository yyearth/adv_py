{
 "cells": [
  {
   "cell_type": "markdown",
   "metadata": {},
   "source": [
    "并发：一个时间段内，几个程序在一个CPU上运行，一时刻只有一个程序在执行。\n",
    "    CPU0: --    --\n",
    "            ---      --\n",
    "               -  ---\n",
    "并行：多个程序运行在多个CPU上。\n",
    "    CPU0:------  ----\n",
    "    CPU1:----  ---- -\n",
    "    CPU2:--  --------"
   ]
  },
  {
   "cell_type": "markdown",
   "metadata": {},
   "source": [
    "消息同步机制\n",
    "同步：有IO操作时，程序等待IO完成再进行下一步。\n",
    "异步：有IO操作时，程序不等待IO完成进行下一步。"
   ]
  },
  {
   "cell_type": "markdown",
   "metadata": {},
   "source": [
    "程序调用机制\n",
    "阻塞：程序调用时，当前线程被挂起等待。\n",
    "非阻塞：程序调用时，线程没有挂起，函数立即返回。"
   ]
  },
  {
   "cell_type": "markdown",
   "metadata": {},
   "source": [
    "操作系统、Linux、多并发"
   ]
  },
  {
   "cell_type": "markdown",
   "metadata": {},
   "source": [
    "C10K问题：（1999）如何利用单核CPU，2GB内存，1Gbps网络保持10000并发连接。\n",
    "C10M问题：如何利用8核CPU，64GB内存，10Gbps网络保持1000w并发连接。"
   ]
  },
  {
   "cell_type": "code",
   "execution_count": null,
   "metadata": {},
   "outputs": [],
   "source": []
  },
  {
   "cell_type": "code",
   "execution_count": null,
   "metadata": {},
   "outputs": [],
   "source": []
  },
  {
   "cell_type": "code",
   "execution_count": null,
   "metadata": {},
   "outputs": [],
   "source": []
  }
 ],
 "metadata": {
  "kernelspec": {
   "display_name": "Python 3",
   "language": "python",
   "name": "python3"
  },
  "language_info": {
   "codemirror_mode": {
    "name": "ipython",
    "version": 3
   },
   "file_extension": ".py",
   "mimetype": "text/x-python",
   "name": "python",
   "nbconvert_exporter": "python",
   "pygments_lexer": "ipython3",
   "version": "3.6.7"
  }
 },
 "nbformat": 4,
 "nbformat_minor": 2
}
