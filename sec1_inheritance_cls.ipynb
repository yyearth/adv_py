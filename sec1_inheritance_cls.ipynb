{
 "cells": [
  {
   "cell_type": "markdown",
   "metadata": {},
   "source": [
    "## isinstance, is, =="
   ]
  },
  {
   "cell_type": "code",
   "execution_count": 10,
   "metadata": {},
   "outputs": [],
   "source": [
    "# isinstance(obj, class_or_tuple) will check the obj with class' inherit chain"
   ]
  },
  {
   "cell_type": "code",
   "execution_count": 3,
   "metadata": {},
   "outputs": [],
   "source": [
    "class A:\n",
    "    pass\n",
    "\n",
    "class B(A):\n",
    "    pass\n",
    "\n",
    "b = B()"
   ]
  },
  {
   "cell_type": "code",
   "execution_count": 4,
   "metadata": {},
   "outputs": [
    {
     "data": {
      "text/plain": [
       "True"
      ]
     },
     "execution_count": 4,
     "metadata": {},
     "output_type": "execute_result"
    }
   ],
   "source": [
    "isinstance(b, B)"
   ]
  },
  {
   "cell_type": "code",
   "execution_count": 5,
   "metadata": {},
   "outputs": [
    {
     "data": {
      "text/plain": [
       "True"
      ]
     },
     "execution_count": 5,
     "metadata": {},
     "output_type": "execute_result"
    }
   ],
   "source": [
    "isinstance(b, A)"
   ]
  },
  {
   "cell_type": "code",
   "execution_count": 6,
   "metadata": {},
   "outputs": [
    {
     "data": {
      "text/plain": [
       "__main__.B"
      ]
     },
     "execution_count": 6,
     "metadata": {},
     "output_type": "execute_result"
    }
   ],
   "source": [
    "type(b) # point to class B"
   ]
  },
  {
   "cell_type": "code",
   "execution_count": 7,
   "metadata": {},
   "outputs": [
    {
     "data": {
      "text/plain": [
       "True"
      ]
     },
     "execution_count": 7,
     "metadata": {},
     "output_type": "execute_result"
    }
   ],
   "source": [
    "type(b) is B # test whether id is the same."
   ]
  },
  {
   "cell_type": "code",
   "execution_count": 8,
   "metadata": {},
   "outputs": [
    {
     "data": {
      "text/plain": [
       "True"
      ]
     },
     "execution_count": 8,
     "metadata": {},
     "output_type": "execute_result"
    }
   ],
   "source": [
    "type(b) == B # test whether value is the same. If id are same, so is the value."
   ]
  },
  {
   "cell_type": "code",
   "execution_count": 9,
   "metadata": {},
   "outputs": [
    {
     "data": {
      "text/plain": [
       "False"
      ]
     },
     "execution_count": 9,
     "metadata": {},
     "output_type": "execute_result"
    }
   ],
   "source": [
    "type(b) is A # simple test the id, compared with isinstance(obj)"
   ]
  },
  {
   "cell_type": "code",
   "execution_count": 12,
   "metadata": {},
   "outputs": [
    {
     "data": {
      "text/plain": [
       "True"
      ]
     },
     "execution_count": 12,
     "metadata": {},
     "output_type": "execute_result"
    }
   ],
   "source": [
    "isinstance(b, (type, int, B))"
   ]
  },
  {
   "cell_type": "code",
   "execution_count": 13,
   "metadata": {},
   "outputs": [
    {
     "data": {
      "text/plain": [
       "False"
      ]
     },
     "execution_count": 13,
     "metadata": {},
     "output_type": "execute_result"
    }
   ],
   "source": [
    "isinstance(b, (type, int))"
   ]
  },
  {
   "cell_type": "markdown",
   "metadata": {},
   "source": [
    "## Inheritance"
   ]
  },
  {
   "cell_type": "code",
   "execution_count": 14,
   "metadata": {},
   "outputs": [
    {
     "data": {
      "text/plain": [
       "type"
      ]
     },
     "execution_count": 14,
     "metadata": {},
     "output_type": "execute_result"
    }
   ],
   "source": [
    "type(object)"
   ]
  },
  {
   "cell_type": "code",
   "execution_count": 15,
   "metadata": {},
   "outputs": [
    {
     "data": {
      "text/plain": [
       "type"
      ]
     },
     "execution_count": 15,
     "metadata": {},
     "output_type": "execute_result"
    }
   ],
   "source": [
    "type(type)"
   ]
  },
  {
   "cell_type": "code",
   "execution_count": 16,
   "metadata": {},
   "outputs": [
    {
     "data": {
      "text/plain": [
       "int"
      ]
     },
     "execution_count": 16,
     "metadata": {},
     "output_type": "execute_result"
    }
   ],
   "source": [
    "type(123)"
   ]
  },
  {
   "cell_type": "code",
   "execution_count": 17,
   "metadata": {},
   "outputs": [
    {
     "data": {
      "text/plain": [
       "type"
      ]
     },
     "execution_count": 17,
     "metadata": {},
     "output_type": "execute_result"
    }
   ],
   "source": [
    "type(int)"
   ]
  },
  {
   "cell_type": "markdown",
   "metadata": {},
   "source": [
    "#### 一切皆对象\n",
    "* object 对象：\n",
    "* instance 实例：\n",
    "* class 类：\n",
    "* ref 引用：  \n",
    "class -> obj -> instance"
   ]
  },
  {
   "cell_type": "code",
   "execution_count": 18,
   "metadata": {},
   "outputs": [
    {
     "data": {
      "text/plain": [
       "object"
      ]
     },
     "execution_count": 18,
     "metadata": {},
     "output_type": "execute_result"
    }
   ],
   "source": [
    "int.__base__"
   ]
  },
  {
   "cell_type": "code",
   "execution_count": 19,
   "metadata": {},
   "outputs": [
    {
     "data": {
      "text/plain": [
       "object"
      ]
     },
     "execution_count": 19,
     "metadata": {},
     "output_type": "execute_result"
    }
   ],
   "source": [
    "type.__base__"
   ]
  },
  {
   "cell_type": "code",
   "execution_count": 20,
   "metadata": {},
   "outputs": [],
   "source": [
    "object.__base__  # None 生于虚无"
   ]
  },
  {
   "cell_type": "markdown",
   "metadata": {},
   "source": [
    "None --> object --> type, int, float, ...  "
   ]
  },
  {
   "cell_type": "markdown",
   "metadata": {},
   "source": [
    "## class 类"
   ]
  },
  {
   "cell_type": "markdown",
   "metadata": {},
   "source": [
    "属性 property attributes --> variable 变量\n",
    "                       |--> function 方法"
   ]
  },
  {
   "cell_type": "code",
   "execution_count": 22,
   "metadata": {},
   "outputs": [],
   "source": [
    "class A: \n",
    "    aa = 123  # 类变量\n",
    "    def __init__(self, a, b):  # 类方法\n",
    "        self.a = a  # 实例变量， self 的都是实例的\n",
    "        self.b = b"
   ]
  },
  {
   "cell_type": "markdown",
   "metadata": {},
   "source": [
    "MRO, method resolution order  \n",
    "C3 python mro alg 继承顺序查询算法  \n",
    "DFS 深度优先  \n",
    "BFS 广度优先  "
   ]
  },
  {
   "cell_type": "code",
   "execution_count": 23,
   "metadata": {},
   "outputs": [
    {
     "data": {
      "text/plain": [
       "(int, object)"
      ]
     },
     "execution_count": 23,
     "metadata": {},
     "output_type": "execute_result"
    }
   ],
   "source": [
    "int.__mro__"
   ]
  },
  {
   "cell_type": "code",
   "execution_count": 24,
   "metadata": {},
   "outputs": [
    {
     "data": {
      "text/plain": [
       "(__main__.A, __main__.B, __main__.C, __main__.D, object)"
      ]
     },
     "execution_count": 24,
     "metadata": {},
     "output_type": "execute_result"
    }
   ],
   "source": [
    "class D:\n",
    "    pass\n",
    "\n",
    "class B(D):\n",
    "    pass\n",
    "class C(D):\n",
    "    pass\n",
    "class A(B, C):\n",
    "    pass\n",
    "\n",
    "A.__mro__"
   ]
  },
  {
   "cell_type": "code",
   "execution_count": 25,
   "metadata": {},
   "outputs": [
    {
     "data": {
      "text/plain": [
       "(__main__.A, __main__.B, __main__.D, __main__.C, __main__.E, object)"
      ]
     },
     "execution_count": 25,
     "metadata": {},
     "output_type": "execute_result"
    }
   ],
   "source": [
    "class D:\n",
    "    pass\n",
    "class E:\n",
    "    pass\n",
    "\n",
    "class B(D):\n",
    "    pass\n",
    "class C(E):\n",
    "    pass\n",
    "\n",
    "class A(B, C):\n",
    "    pass\n",
    "\n",
    "A.__mro__"
   ]
  },
  {
   "cell_type": "markdown",
   "metadata": {},
   "source": [
    "## @classmethod 类方法 @staticmethod 静态方法"
   ]
  },
  {
   "cell_type": "code",
   "execution_count": 33,
   "metadata": {},
   "outputs": [],
   "source": [
    "class Date:\n",
    "    \n",
    "    def __init__(self, year, month, day):\n",
    "        self.year = year\n",
    "        self.month = month\n",
    "        self.day = day\n",
    "        \n",
    "    def __str__(self):  # print 时调用\n",
    "        return '{year}-{month}-{day}'.format(year=self.year, month=self.month, day=self.day)\n",
    "    \n",
    "    @staticmethod  # 静态方法，将方法的namespace拿到类里面，但要引用到类时只能写明（硬编码）\n",
    "    def parse_from_str(date_str):\n",
    "        y, m, d = tuple(date_str.split('.'))\n",
    "        return Date(int(y), int(m), int(d))  # 用到类\n",
    "    \n",
    "    @classmethod  # 类方法，第一个参数是类 cls，\n",
    "    def from_str(cls, date_str):\n",
    "        y, m, d = tuple(date_str.split('.'))\n",
    "        return cls(int(y), int(m), int(d))  # 用cls\n",
    "    \n",
    "    "
   ]
  },
  {
   "cell_type": "code",
   "execution_count": 38,
   "metadata": {},
   "outputs": [
    {
     "name": "stdout",
     "output_type": "stream",
     "text": [
      "2019-1-12\n",
      "2019-1-1\n",
      "2019-1-1\n"
     ]
    }
   ],
   "source": [
    "d = Date(2019, 1, 12)\n",
    "print(d)\n",
    "\n",
    "df = Date.from_str('2019.1.1')\n",
    "print(df)\n",
    "\n",
    "dff = Date.parse_from_str('2019.1.1')\n",
    "print(dff)"
   ]
  },
  {
   "cell_type": "code",
   "execution_count": 52,
   "metadata": {},
   "outputs": [
    {
     "name": "stdout",
     "output_type": "stream",
     "text": [
      "24\n",
      "24\n"
     ]
    }
   ],
   "source": [
    "class User:\n",
    "    \"\"\"\n",
    "    User doc\n",
    "    \"\"\"\n",
    "    \n",
    "    def __init__(self, age):\n",
    "        self.__age = age  ## 私有属性\n",
    "        \n",
    "    def get_age(self):\n",
    "        return self.__age\n",
    "    \n",
    "yy = User(24)\n",
    "print(yy.get_age())\n",
    "# print(yy.__age)\n",
    "print(yy._User__age)"
   ]
  },
  {
   "cell_type": "markdown",
   "metadata": {},
   "source": [
    "自省机制：python查询到自己的内部结构"
   ]
  },
  {
   "cell_type": "code",
   "execution_count": 55,
   "metadata": {},
   "outputs": [
    {
     "data": {
      "text/plain": [
       "{'_User__age': 24}"
      ]
     },
     "execution_count": 55,
     "metadata": {},
     "output_type": "execute_result"
    }
   ],
   "source": [
    "yy.__dict__"
   ]
  },
  {
   "cell_type": "code",
   "execution_count": 54,
   "metadata": {},
   "outputs": [
    {
     "data": {
      "text/plain": [
       "mappingproxy({'__module__': '__main__',\n",
       "              '__doc__': '\\n    User doc\\n    ',\n",
       "              '__init__': <function __main__.User.__init__(self, age)>,\n",
       "              'get_age': <function __main__.User.get_age(self)>,\n",
       "              '__dict__': <attribute '__dict__' of 'User' objects>,\n",
       "              '__weakref__': <attribute '__weakref__' of 'User' objects>})"
      ]
     },
     "execution_count": 54,
     "metadata": {},
     "output_type": "execute_result"
    }
   ],
   "source": [
    "User.__dict__"
   ]
  },
  {
   "cell_type": "code",
   "execution_count": 56,
   "metadata": {},
   "outputs": [
    {
     "data": {
      "text/plain": [
       "['__class__',\n",
       " '__delattr__',\n",
       " '__dict__',\n",
       " '__dir__',\n",
       " '__doc__',\n",
       " '__eq__',\n",
       " '__format__',\n",
       " '__ge__',\n",
       " '__getattribute__',\n",
       " '__gt__',\n",
       " '__hash__',\n",
       " '__init__',\n",
       " '__init_subclass__',\n",
       " '__le__',\n",
       " '__lt__',\n",
       " '__module__',\n",
       " '__ne__',\n",
       " '__new__',\n",
       " '__reduce__',\n",
       " '__reduce_ex__',\n",
       " '__repr__',\n",
       " '__setattr__',\n",
       " '__sizeof__',\n",
       " '__str__',\n",
       " '__subclasshook__',\n",
       " '__weakref__',\n",
       " 'get_age']"
      ]
     },
     "execution_count": 56,
     "metadata": {},
     "output_type": "execute_result"
    }
   ],
   "source": [
    "dir(User)"
   ]
  },
  {
   "cell_type": "code",
   "execution_count": 59,
   "metadata": {},
   "outputs": [
    {
     "data": {
      "text/plain": [
       "mappingproxy({'__repr__': <slot wrapper '__repr__' of 'int' objects>,\n",
       "              '__hash__': <slot wrapper '__hash__' of 'int' objects>,\n",
       "              '__str__': <slot wrapper '__str__' of 'int' objects>,\n",
       "              '__getattribute__': <slot wrapper '__getattribute__' of 'int' objects>,\n",
       "              '__lt__': <slot wrapper '__lt__' of 'int' objects>,\n",
       "              '__le__': <slot wrapper '__le__' of 'int' objects>,\n",
       "              '__eq__': <slot wrapper '__eq__' of 'int' objects>,\n",
       "              '__ne__': <slot wrapper '__ne__' of 'int' objects>,\n",
       "              '__gt__': <slot wrapper '__gt__' of 'int' objects>,\n",
       "              '__ge__': <slot wrapper '__ge__' of 'int' objects>,\n",
       "              '__add__': <slot wrapper '__add__' of 'int' objects>,\n",
       "              '__radd__': <slot wrapper '__radd__' of 'int' objects>,\n",
       "              '__sub__': <slot wrapper '__sub__' of 'int' objects>,\n",
       "              '__rsub__': <slot wrapper '__rsub__' of 'int' objects>,\n",
       "              '__mul__': <slot wrapper '__mul__' of 'int' objects>,\n",
       "              '__rmul__': <slot wrapper '__rmul__' of 'int' objects>,\n",
       "              '__mod__': <slot wrapper '__mod__' of 'int' objects>,\n",
       "              '__rmod__': <slot wrapper '__rmod__' of 'int' objects>,\n",
       "              '__divmod__': <slot wrapper '__divmod__' of 'int' objects>,\n",
       "              '__rdivmod__': <slot wrapper '__rdivmod__' of 'int' objects>,\n",
       "              '__pow__': <slot wrapper '__pow__' of 'int' objects>,\n",
       "              '__rpow__': <slot wrapper '__rpow__' of 'int' objects>,\n",
       "              '__neg__': <slot wrapper '__neg__' of 'int' objects>,\n",
       "              '__pos__': <slot wrapper '__pos__' of 'int' objects>,\n",
       "              '__abs__': <slot wrapper '__abs__' of 'int' objects>,\n",
       "              '__bool__': <slot wrapper '__bool__' of 'int' objects>,\n",
       "              '__invert__': <slot wrapper '__invert__' of 'int' objects>,\n",
       "              '__lshift__': <slot wrapper '__lshift__' of 'int' objects>,\n",
       "              '__rlshift__': <slot wrapper '__rlshift__' of 'int' objects>,\n",
       "              '__rshift__': <slot wrapper '__rshift__' of 'int' objects>,\n",
       "              '__rrshift__': <slot wrapper '__rrshift__' of 'int' objects>,\n",
       "              '__and__': <slot wrapper '__and__' of 'int' objects>,\n",
       "              '__rand__': <slot wrapper '__rand__' of 'int' objects>,\n",
       "              '__xor__': <slot wrapper '__xor__' of 'int' objects>,\n",
       "              '__rxor__': <slot wrapper '__rxor__' of 'int' objects>,\n",
       "              '__or__': <slot wrapper '__or__' of 'int' objects>,\n",
       "              '__ror__': <slot wrapper '__ror__' of 'int' objects>,\n",
       "              '__int__': <slot wrapper '__int__' of 'int' objects>,\n",
       "              '__float__': <slot wrapper '__float__' of 'int' objects>,\n",
       "              '__floordiv__': <slot wrapper '__floordiv__' of 'int' objects>,\n",
       "              '__rfloordiv__': <slot wrapper '__rfloordiv__' of 'int' objects>,\n",
       "              '__truediv__': <slot wrapper '__truediv__' of 'int' objects>,\n",
       "              '__rtruediv__': <slot wrapper '__rtruediv__' of 'int' objects>,\n",
       "              '__index__': <slot wrapper '__index__' of 'int' objects>,\n",
       "              '__new__': <function int.__new__(*args, **kwargs)>,\n",
       "              'conjugate': <method 'conjugate' of 'int' objects>,\n",
       "              'bit_length': <method 'bit_length' of 'int' objects>,\n",
       "              'to_bytes': <method 'to_bytes' of 'int' objects>,\n",
       "              'from_bytes': <method 'from_bytes' of 'int' objects>,\n",
       "              '__trunc__': <method '__trunc__' of 'int' objects>,\n",
       "              '__floor__': <method '__floor__' of 'int' objects>,\n",
       "              '__ceil__': <method '__ceil__' of 'int' objects>,\n",
       "              '__round__': <method '__round__' of 'int' objects>,\n",
       "              '__getnewargs__': <method '__getnewargs__' of 'int' objects>,\n",
       "              '__format__': <method '__format__' of 'int' objects>,\n",
       "              '__sizeof__': <method '__sizeof__' of 'int' objects>,\n",
       "              'real': <attribute 'real' of 'int' objects>,\n",
       "              'imag': <attribute 'imag' of 'int' objects>,\n",
       "              'numerator': <attribute 'numerator' of 'int' objects>,\n",
       "              'denominator': <attribute 'denominator' of 'int' objects>,\n",
       "              '__doc__': \"int(x=0) -> integer\\nint(x, base=10) -> integer\\n\\nConvert a number or string to an integer, or return 0 if no arguments\\nare given.  If x is a number, return x.__int__().  For floating point\\nnumbers, this truncates towards zero.\\n\\nIf x is not a number or if base is given, then x must be a string,\\nbytes, or bytearray instance representing an integer literal in the\\ngiven base.  The literal can be preceded by '+' or '-' and be surrounded\\nby whitespace.  The base defaults to 10.  Valid bases are 0 and 2-36.\\nBase 0 means to interpret the base from the string as an integer literal.\\n>>> int('0b100', base=0)\\n4\"})"
      ]
     },
     "execution_count": 59,
     "metadata": {},
     "output_type": "execute_result"
    }
   ],
   "source": [
    "a = 123\n",
    "int.__dict__"
   ]
  },
  {
   "cell_type": "markdown",
   "metadata": {},
   "source": [
    "## super"
   ]
  },
  {
   "cell_type": "code",
   "execution_count": 61,
   "metadata": {},
   "outputs": [
    {
     "name": "stdout",
     "output_type": "stream",
     "text": [
      "init D\n",
      "init B\n",
      "init C\n",
      "init A\n"
     ]
    }
   ],
   "source": [
    "class A:\n",
    "    def __init__(self):\n",
    "        print('init A')\n",
    "        \n",
    "class B(A):\n",
    "    def __init__(self):\n",
    "        print('init B')\n",
    "#         super(B, self).__init__  # in Python 2\n",
    "        super().__init__()  # in Python 3\n",
    "    \n",
    "class C(A):\n",
    "    def __init__(self):\n",
    "        print('init C')\n",
    "        super().__init__()  # in Python 3    \n",
    "\n",
    "        \n",
    "class D(B, C):\n",
    "    def __init__(self):\n",
    "        print('init D')\n",
    "        super().__init__()  # in Python 3\n",
    "        \n",
    "        \n",
    "d = D()"
   ]
  },
  {
   "cell_type": "code",
   "execution_count": 63,
   "metadata": {},
   "outputs": [
    {
     "data": {
      "text/plain": [
       "(__main__.D, __main__.B, __main__.C, __main__.A, object)"
      ]
     },
     "execution_count": 63,
     "metadata": {},
     "output_type": "execute_result"
    }
   ],
   "source": [
    "D.__mro__"
   ]
  },
  {
   "cell_type": "markdown",
   "metadata": {},
   "source": []
  }
 ],
 "metadata": {
  "kernelspec": {
   "display_name": "Python 3",
   "language": "python",
   "name": "python3"
  },
  "language_info": {
   "codemirror_mode": {
    "name": "ipython",
    "version": 3
   },
   "file_extension": ".py",
   "mimetype": "text/x-python",
   "name": "python",
   "nbconvert_exporter": "python",
   "pygments_lexer": "ipython3",
   "version": "3.6.7"
  }
 },
 "nbformat": 4,
 "nbformat_minor": 2
}
