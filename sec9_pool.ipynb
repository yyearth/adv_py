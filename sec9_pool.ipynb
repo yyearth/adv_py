{
 "cells": [
  {
   "cell_type": "markdown",
   "metadata": {},
   "source": [
    "Future类，task的容器，提供了submit，done，cancel等方法。   \n",
    "Work_Iterm类，真正执行任务的单元。"
   ]
  },
  {
   "cell_type": "code",
   "execution_count": 1,
   "metadata": {},
   "outputs": [],
   "source": [
    "from concurrent.futures import ThreadPoolExecutor, wait, as_completed "
   ]
  },
  {
   "cell_type": "code",
   "execution_count": 2,
   "metadata": {},
   "outputs": [],
   "source": [
    "import time"
   ]
  },
  {
   "cell_type": "code",
   "execution_count": 3,
   "metadata": {},
   "outputs": [],
   "source": [
    "# concurrent.futures 线程池模块\n",
    "\n",
    "def do(sec, name):\n",
    "    time.sleep(sec)\n",
    "    print('{}:{} sec done!'.format(name, sec))\n",
    "    return sec\n",
    "\n",
    "\n",
    "def doone(one):\n",
    "    time.sleep(one)\n",
    "    print('{} sec done!'.format(one))\n",
    "    return one"
   ]
  },
  {
   "cell_type": "code",
   "execution_count": 4,
   "metadata": {},
   "outputs": [
    {
     "name": "stdout",
     "output_type": "stream",
     "text": [
      "False\n",
      "t0:1 sec done!\n",
      "1\n",
      "t1:1.5 sec done!\n"
     ]
    }
   ],
   "source": [
    "executor = ThreadPoolExecutor(max_workers=2)\n",
    "\n",
    "task = executor.submit(do, 1, 't0')\n",
    "task1 = executor.submit(do, 1.5, 't1')\n",
    "task2 = executor.submit(do, 2, 't2')\n",
    "\n",
    "task2.cancel()  # 取消任务，task2没有被执行，pool中worker为2。\n",
    "                # running正在执行的、completed执行完的不能cancel\n",
    "\n",
    "print(task.done())  # 判断是否完成\n",
    "print(task.result(timeout=None))  # 取返回值，阻塞主线程"
   ]
  },
  {
   "cell_type": "code",
   "execution_count": null,
   "metadata": {},
   "outputs": [],
   "source": [
    "args = [[1, 't0'], [1.5, 't1'], [2, 't2']]\n",
    "all_task = [executor.submit(do, *arg) for arg in args]  # 出现错误不会被抛出\n",
    "# wait(all_task, return_when='FIRST_COMPLETED')  # 等待，阻塞主线程\n",
    "# print('main')\n",
    "for future in as_completed(all_task):  # 得到已经完成的task，as_completed 是生成器 yield\n",
    "    res = future.result()\n",
    "    print(res, 'success.')"
   ]
  },
  {
   "cell_type": "code",
   "execution_count": null,
   "metadata": {},
   "outputs": [],
   "source": [
    "# one_args = [0.5, 1, 1.5]\n",
    "# for future in executor.map(do, one_args):\n",
    "#     # 直接得到task返回值\n",
    "#     print(future, 'success')"
   ]
  },
  {
   "cell_type": "code",
   "execution_count": 5,
   "metadata": {},
   "outputs": [
    {
     "name": "stdout",
     "output_type": "stream",
     "text": [
      "t0:1 sec done!\n",
      "t1:1.5 sec done!\n",
      "t2:2 sec done!\n"
     ]
    }
   ],
   "source": [
    "with ThreadPoolExecutor(3) as executor:\n",
    "    task = executor.submit(do, 1, 't0')\n",
    "    task1 = executor.submit(do, 1.5, 't1')\n",
    "    task2 = executor.submit(do, 2, 't2')"
   ]
  },
  {
   "cell_type": "code",
   "execution_count": null,
   "metadata": {},
   "outputs": [],
   "source": []
  },
  {
   "cell_type": "code",
   "execution_count": null,
   "metadata": {},
   "outputs": [],
   "source": []
  }
 ],
 "metadata": {
  "kernelspec": {
   "display_name": "Python 3",
   "language": "python",
   "name": "python3"
  },
  "language_info": {
   "codemirror_mode": {
    "name": "ipython",
    "version": 3
   },
   "file_extension": ".py",
   "mimetype": "text/x-python",
   "name": "python",
   "nbconvert_exporter": "python",
   "pygments_lexer": "ipython3",
   "version": "3.6.7"
  }
 },
 "nbformat": 4,
 "nbformat_minor": 2
}
