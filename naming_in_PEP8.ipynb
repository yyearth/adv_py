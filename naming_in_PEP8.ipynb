{
 "cells": [
  {
   "cell_type": "markdown",
   "metadata": {},
   "source": [
    "# Naming Convention in PEP 8 "
   ]
  },
  {
   "cell_type": "markdown",
   "metadata": {},
   "source": [
    "### Naming Style\n",
    "* b (single lowercase letter)\n",
    "* B (single uppercase letter)\n",
    "* lowercase\n",
    "* lowercase_with_underscore\n",
    "* UPERCASE\n",
    "* UPERCASE_WITH_UNDERSCORE\n",
    "* CapitalizedWords or CapWords or CamelCase 驼峰法\n",
    "* mixedCase (prefered in Java)"
   ]
  },
  {
   "cell_type": "markdown",
   "metadata": {},
   "source": [
    "#### In addition, some have special meaning."
   ]
  },
  {
   "cell_type": "markdown",
   "metadata": {},
   "source": [
    "* \\_single_leading_underscore: weak internal use. E.g. from M import * does not import \\_them\n",
    "* single_trailing_underscore_: avoid conflicts with keywords. E.g. class_\n",
    "* \\_\\_double_leading_underscore: when naming a class attribute, invokes naming mangling. E.g. class FooBar.\\_\\_boo becomes \\_FooBar\\_\\_boo\n",
    "* \\_\\_double_leading_and_trailing_underscore__: magic objects or attributes"
   ]
  },
  {
   "cell_type": "markdown",
   "metadata": {},
   "source": [
    "### Names to Avoid \n",
    "Never use 'l el', 'O oh' or 'I eye' as single character names."
   ]
  },
  {
   "cell_type": "markdown",
   "metadata": {},
   "source": [
    "* Package name: lowercase\n",
    "* Module name: lowercase, lowercase_with_underscore (if improves readability) \n",
    "* Class name: CapWords\n",
    "* Function name: lowercase, lowercase_with_underscore\n",
    "* Variable name: lowercase, lowercase_with_underscore\n",
    "* Constants name: UPERCASE, UPERCASE_WITH_UNDERSCORE"
   ]
  },
  {
   "cell_type": "code",
   "execution_count": null,
   "metadata": {},
   "outputs": [],
   "source": []
  }
 ],
 "metadata": {
  "kernelspec": {
   "display_name": "Python 3",
   "language": "python",
   "name": "python3"
  },
  "language_info": {
   "codemirror_mode": {
    "name": "ipython",
    "version": 3
   },
   "file_extension": ".py",
   "mimetype": "text/x-python",
   "name": "python",
   "nbconvert_exporter": "python",
   "pygments_lexer": "ipython3",
   "version": "3.6.7"
  }
 },
 "nbformat": 4,
 "nbformat_minor": 2
}
