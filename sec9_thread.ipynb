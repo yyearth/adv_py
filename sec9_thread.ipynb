{
 "cells": [
  {
   "cell_type": "markdown",
   "metadata": {},
   "source": [
    "### GIL -- Global Interpreter Lock in CPython\n",
    "- Python 中一个线程对应C语言中一个线程。\n",
    "- GIL 使同一时刻只有一个线程在CPU上执行，无法多线程映射到多个CPU上。\n",
    "- GIL 会根据字节码的行数多少决定释放CPU，IO操作时立即释放CPU。"
   ]
  },
  {
   "cell_type": "code",
   "execution_count": 2,
   "metadata": {},
   "outputs": [
    {
     "name": "stdout",
     "output_type": "stream",
     "text": [
      "  4           0 LOAD_FAST                0 (a)\n",
      "              2 LOAD_CONST               1 (1)\n",
      "              4 INPLACE_ADD\n",
      "              6 STORE_FAST               0 (a)\n",
      "\n",
      "  5           8 LOAD_FAST                0 (a)\n",
      "             10 RETURN_VALUE\n"
     ]
    }
   ],
   "source": [
    "# asm字节码\n",
    "import dis\n",
    "def add(a):\n",
    "    a += 1\n",
    "    return a\n",
    "\n",
    "dis.dis(add)"
   ]
  },
  {
   "cell_type": "code",
   "execution_count": 5,
   "metadata": {},
   "outputs": [
    {
     "data": {
      "text/plain": [
       "499781"
      ]
     },
     "execution_count": 5,
     "metadata": {},
     "output_type": "execute_result"
    }
   ],
   "source": [
    "total = 0\n",
    "def add():\n",
    "    global total\n",
    "    for i in range(1000000):\n",
    "        total += 1\n",
    "        \n",
    "def disc():\n",
    "    global total\n",
    "    for i in range(1000000):\n",
    "        total -= 1\n",
    "        \n",
    "import threading\n",
    "th1 = threading.Thread(target=add)\n",
    "th2 = threading.Thread(target=disc)\n",
    "\n",
    "th1.start()\n",
    "th2.start()\n",
    "\n",
    "th1.join()\n",
    "th2.join()\n",
    "\n",
    "total"
   ]
  },
  {
   "cell_type": "markdown",
   "metadata": {},
   "source": [
    "操作系统调度的最小运行单元--线程thread，能看到的是进程process（任务管理器）。"
   ]
  },
  {
   "cell_type": "markdown",
   "metadata": {},
   "source": [
    "### 线程函数方式\n",
    "适合小的操作。"
   ]
  },
  {
   "cell_type": "code",
   "execution_count": 22,
   "metadata": {},
   "outputs": [
    {
     "name": "stdout",
     "output_type": "stream",
     "text": [
      "start get A...\n",
      "start get B...\n",
      "end get B.\n",
      "end get A.\n",
      "2.006112813949585\n"
     ]
    }
   ],
   "source": [
    "import threading\n",
    "import time\n",
    "\n",
    "def getA():\n",
    "    print('start get A...')\n",
    "    time.sleep(2)\n",
    "    print('end get A.')\n",
    "    \n",
    "def getB():\n",
    "    print('start get B...')\n",
    "    time.sleep(1)\n",
    "    print('end get B.')\n",
    "    \n",
    "th1 = threading.Thread(target=getA)\n",
    "th2 = threading.Thread(target=getB)\n",
    "\n",
    "# th1.setDaemon(True)  # 设置守护线程，主线程不管子线程， \n",
    "# th2.setDaemon(True)\n",
    "\n",
    "st = time.time()\n",
    "th1.start()  # 产生开始线程1，主线程继续往下执行。\n",
    "th2.start()\n",
    "\n",
    "th1.join()  # 主线程等待子线程1返回，主进程被阻塞。\n",
    "th2.join()  # 主线程等待子线程2\n",
    "\n",
    "print(time.time()-st)  # 主线程等待所有子线程执行完后，结束返回"
   ]
  },
  {
   "cell_type": "markdown",
   "metadata": {},
   "source": [
    "### 继承threading.Thread类的方式\n",
    "适合大的操作逻辑。"
   ]
  },
  {
   "cell_type": "code",
   "execution_count": 25,
   "metadata": {},
   "outputs": [
    {
     "name": "stdout",
     "output_type": "stream",
     "text": [
      "start get A...\n",
      "end get A.\n",
      "2.004106283187866\n"
     ]
    }
   ],
   "source": [
    "class GetA(threading.Thread):\n",
    "    def __init__(self, name):\n",
    "        super().__init__(name=name)\n",
    "        \n",
    "    def run(self):\n",
    "        print('start get A...')\n",
    "        time.sleep(2)\n",
    "        print('end get A.')\n",
    "        \n",
    "g = GetA('aaa')\n",
    "st = time.time()\n",
    "g.start()\n",
    "g.join()\n",
    "print(time.time()-st)"
   ]
  },
  {
   "cell_type": "markdown",
   "metadata": {},
   "source": [
    "### 线程通信\n",
    "- global list\n",
    "- from queue import Queue 线程安全的。"
   ]
  },
  {
   "cell_type": "code",
   "execution_count": 26,
   "metadata": {},
   "outputs": [],
   "source": [
    "from queue import Queue"
   ]
  },
  {
   "cell_type": "code",
   "execution_count": 29,
   "metadata": {},
   "outputs": [],
   "source": [
    "q = Queue(maxsize=3)"
   ]
  },
  {
   "cell_type": "code",
   "execution_count": 39,
   "metadata": {},
   "outputs": [],
   "source": [
    "q.put('a')\n",
    "q.put('b')\n",
    "q.put(12)"
   ]
  },
  {
   "cell_type": "code",
   "execution_count": 40,
   "metadata": {},
   "outputs": [
    {
     "ename": "Full",
     "evalue": "",
     "output_type": "error",
     "traceback": [
      "\u001b[0;31m---------------------------------------------------------------------------\u001b[0m",
      "\u001b[0;31mFull\u001b[0m                                      Traceback (most recent call last)",
      "\u001b[0;32m<ipython-input-40-b19aa57b6cb5>\u001b[0m in \u001b[0;36m<module>\u001b[0;34m\u001b[0m\n\u001b[0;32m----> 1\u001b[0;31m \u001b[0mq\u001b[0m\u001b[0;34m.\u001b[0m\u001b[0mput_nowait\u001b[0m\u001b[0;34m(\u001b[0m\u001b[0;34m'a'\u001b[0m\u001b[0;34m)\u001b[0m\u001b[0;34m\u001b[0m\u001b[0;34m\u001b[0m\u001b[0m\n\u001b[0m",
      "\u001b[0;32m/anaconda3/lib/python3.6/queue.py\u001b[0m in \u001b[0;36mput_nowait\u001b[0;34m(self, item)\u001b[0m\n\u001b[1;32m    182\u001b[0m         \u001b[0mOtherwise\u001b[0m \u001b[0;32mraise\u001b[0m \u001b[0mthe\u001b[0m \u001b[0mFull\u001b[0m \u001b[0mexception\u001b[0m\u001b[0;34m.\u001b[0m\u001b[0;34m\u001b[0m\u001b[0;34m\u001b[0m\u001b[0m\n\u001b[1;32m    183\u001b[0m         '''\n\u001b[0;32m--> 184\u001b[0;31m         \u001b[0;32mreturn\u001b[0m \u001b[0mself\u001b[0m\u001b[0;34m.\u001b[0m\u001b[0mput\u001b[0m\u001b[0;34m(\u001b[0m\u001b[0mitem\u001b[0m\u001b[0;34m,\u001b[0m \u001b[0mblock\u001b[0m\u001b[0;34m=\u001b[0m\u001b[0;32mFalse\u001b[0m\u001b[0;34m)\u001b[0m\u001b[0;34m\u001b[0m\u001b[0;34m\u001b[0m\u001b[0m\n\u001b[0m\u001b[1;32m    185\u001b[0m \u001b[0;34m\u001b[0m\u001b[0m\n\u001b[1;32m    186\u001b[0m     \u001b[0;32mdef\u001b[0m \u001b[0mget_nowait\u001b[0m\u001b[0;34m(\u001b[0m\u001b[0mself\u001b[0m\u001b[0;34m)\u001b[0m\u001b[0;34m:\u001b[0m\u001b[0;34m\u001b[0m\u001b[0;34m\u001b[0m\u001b[0m\n",
      "\u001b[0;32m/anaconda3/lib/python3.6/queue.py\u001b[0m in \u001b[0;36mput\u001b[0;34m(self, item, block, timeout)\u001b[0m\n\u001b[1;32m    128\u001b[0m                 \u001b[0;32mif\u001b[0m \u001b[0;32mnot\u001b[0m \u001b[0mblock\u001b[0m\u001b[0;34m:\u001b[0m\u001b[0;34m\u001b[0m\u001b[0;34m\u001b[0m\u001b[0m\n\u001b[1;32m    129\u001b[0m                     \u001b[0;32mif\u001b[0m \u001b[0mself\u001b[0m\u001b[0;34m.\u001b[0m\u001b[0m_qsize\u001b[0m\u001b[0;34m(\u001b[0m\u001b[0;34m)\u001b[0m \u001b[0;34m>=\u001b[0m \u001b[0mself\u001b[0m\u001b[0;34m.\u001b[0m\u001b[0mmaxsize\u001b[0m\u001b[0;34m:\u001b[0m\u001b[0;34m\u001b[0m\u001b[0;34m\u001b[0m\u001b[0m\n\u001b[0;32m--> 130\u001b[0;31m                         \u001b[0;32mraise\u001b[0m \u001b[0mFull\u001b[0m\u001b[0;34m\u001b[0m\u001b[0;34m\u001b[0m\u001b[0m\n\u001b[0m\u001b[1;32m    131\u001b[0m                 \u001b[0;32melif\u001b[0m \u001b[0mtimeout\u001b[0m \u001b[0;32mis\u001b[0m \u001b[0;32mNone\u001b[0m\u001b[0;34m:\u001b[0m\u001b[0;34m\u001b[0m\u001b[0;34m\u001b[0m\u001b[0m\n\u001b[1;32m    132\u001b[0m                     \u001b[0;32mwhile\u001b[0m \u001b[0mself\u001b[0m\u001b[0;34m.\u001b[0m\u001b[0m_qsize\u001b[0m\u001b[0;34m(\u001b[0m\u001b[0;34m)\u001b[0m \u001b[0;34m>=\u001b[0m \u001b[0mself\u001b[0m\u001b[0;34m.\u001b[0m\u001b[0mmaxsize\u001b[0m\u001b[0;34m:\u001b[0m\u001b[0;34m\u001b[0m\u001b[0;34m\u001b[0m\u001b[0m\n",
      "\u001b[0;31mFull\u001b[0m: "
     ]
    }
   ],
   "source": [
    "q.put_nowait('a')"
   ]
  },
  {
   "cell_type": "code",
   "execution_count": 41,
   "metadata": {},
   "outputs": [
    {
     "data": {
      "text/plain": [
       "'a'"
      ]
     },
     "execution_count": 41,
     "metadata": {},
     "output_type": "execute_result"
    }
   ],
   "source": [
    "q.get()"
   ]
  },
  {
   "cell_type": "code",
   "execution_count": 42,
   "metadata": {},
   "outputs": [
    {
     "data": {
      "text/plain": [
       "'b'"
      ]
     },
     "execution_count": 42,
     "metadata": {},
     "output_type": "execute_result"
    }
   ],
   "source": [
    "q.get(block=False)"
   ]
  },
  {
   "cell_type": "markdown",
   "metadata": {},
   "source": [
    "### 线程的不安全的原因 \n",
    "cell3：执行+=和-=操作时(字节码)，释放了CPU（时间片），导致最后赋值时不对。"
   ]
  },
  {
   "cell_type": "code",
   "execution_count": 44,
   "metadata": {},
   "outputs": [
    {
     "name": "stdout",
     "output_type": "stream",
     "text": [
      "  2           0 LOAD_FAST                0 (a)\n",
      "              2 LOAD_CONST               1 (1)\n",
      "              4 INPLACE_ADD\n",
      "              6 STORE_FAST               0 (a)\n",
      "              8 LOAD_CONST               0 (None)\n",
      "             10 RETURN_VALUE\n",
      "None\n",
      "  5           0 LOAD_FAST                0 (a)\n",
      "              2 LOAD_CONST               1 (1)\n",
      "              4 INPLACE_SUBTRACT\n",
      "              6 STORE_FAST               0 (a)\n",
      "              8 LOAD_CONST               0 (None)\n",
      "             10 RETURN_VALUE\n",
      "None\n"
     ]
    }
   ],
   "source": [
    "def add(a):\n",
    "    a += 1\n",
    "    \n",
    "def desc(a):\n",
    "    a -= 1\n",
    "    \n",
    "print(dis.dis(add))\n",
    "print(dis.dis(desc))"
   ]
  },
  {
   "cell_type": "markdown",
   "metadata": {},
   "source": [
    "### 解决线程安全方法\n",
    "- RLock - 能多次acquire()，但要对应相同次数release().\n",
    "- Lock  - 不能两次acquire，造成死锁。"
   ]
  },
  {
   "cell_type": "code",
   "execution_count": 50,
   "metadata": {},
   "outputs": [
    {
     "data": {
      "text/plain": [
       "0"
      ]
     },
     "execution_count": 50,
     "metadata": {},
     "output_type": "execute_result"
    }
   ],
   "source": [
    "from threading import Lock, RLock\n",
    "total = 0\n",
    "lock = Lock()\n",
    "def add(lock):\n",
    "    global total\n",
    "    \n",
    "    for i in range(1000000):\n",
    "        lock.acquire()\n",
    "#         lock.acquire()  # 错误，Lock不能acquire()两次。\n",
    "        total += 1\n",
    "        lock.release()\n",
    "        \n",
    "        \n",
    "def disc(lock):\n",
    "    global total\n",
    "    for i in range(1000000):\n",
    "        lock.acquire()\n",
    "        total -= 1\n",
    "        lock.release()\n",
    "        \n",
    "import threading\n",
    "th1 = threading.Thread(target=add, args=(lock, ))\n",
    "th2 = threading.Thread(target=disc, args=(lock, ))\n",
    "\n",
    "th1.start()\n",
    "th2.start()\n",
    "\n",
    "th1.join()\n",
    "th2.join()\n",
    "\n",
    "total"
   ]
  },
  {
   "cell_type": "markdown",
   "metadata": {},
   "source": [
    "### 使用Lock的后果\n",
    "- 造成死锁 lock.acquire()/lock.release()\n",
    "- 影响程序性能，上锁解锁花时间。\n",
    "- 资源竞争，程序停住，被block。"
   ]
  },
  {
   "cell_type": "code",
   "execution_count": null,
   "metadata": {},
   "outputs": [],
   "source": [
    "# THREAD-1\n",
    "def A(a, b, lock):\n",
    "    lock.acquire()\n",
    "#   using a do something \n",
    "#   using b do something \n",
    "    lock.release()\n",
    "\n",
    "\n",
    "# THREAD-2\n",
    "def A(a, b, lock):\n",
    "    lock.acquire()\n",
    "#   using b do something \n",
    "#   using a do something \n",
    "    lock.release()\n"
   ]
  },
  {
   "cell_type": "markdown",
   "metadata": {},
   "source": [
    "### 用Condition实现进程间同步（信号等待）\n",
    "threading.Condition()"
   ]
  },
  {
   "cell_type": "code",
   "execution_count": 56,
   "metadata": {},
   "outputs": [
    {
     "name": "stdout",
     "output_type": "stream",
     "text": [
      "B : 1\n",
      "A : 1\n",
      "B : 2\n",
      "A : 2\n"
     ]
    }
   ],
   "source": [
    "import threading\n",
    "\n",
    "class ThA(threading.Thread):\n",
    "    def __init__(self, name, cond):\n",
    "        super().__init__(name=name)\n",
    "        self.cond = cond\n",
    "        \n",
    "    def run(self):\n",
    "        \n",
    "        with self.cond:\n",
    "            self.cond.wait()\n",
    "#             doing B\n",
    "            print(self.name, ': 1')\n",
    "            self.cond.notify()\n",
    "            \n",
    "            self.cond.wait()\n",
    "#             doing A\n",
    "            print(self.name, ': 2')\n",
    "            self.cond.notify()\n",
    "\n",
    "        \n",
    "class ThB(threading.Thread):\n",
    "    def __init__(self, name, cond):\n",
    "        super().__init__(name=name)\n",
    "        self.cond = cond\n",
    "        \n",
    "    def run(self):\n",
    "        \n",
    "        with self.cond:\n",
    "            \n",
    "#             doing B\n",
    "            print(self.name, ': 1')\n",
    "            self.cond.notify()\n",
    "            self.cond.wait()\n",
    "            \n",
    "#             doing A\n",
    "            print(self.name, ': 2')\n",
    "            self.cond.notify()\n",
    "            self.cond.wait()\n",
    "            \n",
    "cond = threading.Condition()\n",
    "\n",
    "t1 = ThA('A', cond)\n",
    "t2 = ThB('B', cond)\n",
    "\n",
    "t1.start()\n",
    "t2.start()\n"
   ]
  },
  {
   "cell_type": "markdown",
   "metadata": {},
   "source": [
    "### Semaphore 信号量\n",
    "限制线程数量。threading.Semaphore()内部维护了一个counter，用来计算lock的acquire和release。 "
   ]
  },
  {
   "cell_type": "code",
   "execution_count": null,
   "metadata": {},
   "outputs": [],
   "source": [
    "sem = threading.Semaphore(value=3)"
   ]
  }
 ],
 "metadata": {
  "kernelspec": {
   "display_name": "Python 3",
   "language": "python",
   "name": "python3"
  },
  "language_info": {
   "codemirror_mode": {
    "name": "ipython",
    "version": 3
   },
   "file_extension": ".py",
   "mimetype": "text/x-python",
   "name": "python",
   "nbconvert_exporter": "python",
   "pygments_lexer": "ipython3",
   "version": "3.6.7"
  }
 },
 "nbformat": 4,
 "nbformat_minor": 2
}
