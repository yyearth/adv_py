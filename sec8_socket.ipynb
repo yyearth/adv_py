{
 "cells": [
  {
   "cell_type": "markdown",
   "metadata": {},
   "source": [
    "### osi 五层网络模型（全七层）\n",
    "- 应用层 ftp, http, smtp, pop3, DNS, DHCP...\n",
    "- （表示层 jpeg, ascii, 加密, ...）\n",
    "- （会话层）\n",
    "- 传输层 tcp, udp.\n",
    "- 网络层 IP(v4, v6), icmp,...\n",
    "- 数据链路层\n",
    "- 物理层"
   ]
  },
  {
   "cell_type": "markdown",
   "metadata": {},
   "source": [
    "socket由系统提供的统一的传输层往下的API"
   ]
  },
  {
   "cell_type": "code",
   "execution_count": 1,
   "metadata": {},
   "outputs": [],
   "source": [
    "import socket"
   ]
  },
  {
   "cell_type": "code",
   "execution_count": null,
   "metadata": {},
   "outputs": [],
   "source": [
    "server = socket.socket(socket.AF_INET, socket.SOCK_STREAM)\n",
    "server.bind(('127.0.0.1', 8000))\n",
    "server.listen()\n",
    "\n",
    "while True:\n",
    "    sock, addr = server.accept()\n",
    "    \n",
    "    while True:\n",
    "        data = sock.recev(1024) \n",
    "        print(data.decode('utf-8'))\n",
    "        in_data = input()\n",
    "        sock.send(in_data.encode('utf-8'))\n",
    "        "
   ]
  },
  {
   "cell_type": "code",
   "execution_count": null,
   "metadata": {},
   "outputs": [],
   "source": [
    "client = socket.socket(socket.AF_INET, socket.SOCK_STREAM)\n",
    "client.connect(('127.0.0.1', 8000))\n",
    "while True:\n",
    "    in_data = input()\n",
    "    client.send(in_data.encode('utf-8'))\n",
    "    data = client.recev(1024)\n",
    "    print(data.decode('utf-8'))\n",
    "    "
   ]
  },
  {
   "cell_type": "markdown",
   "metadata": {},
   "source": [
    "socket 模拟 http 请求"
   ]
  },
  {
   "cell_type": "code",
   "execution_count": null,
   "metadata": {},
   "outputs": [],
   "source": [
    "from urllib.parse import urlparse\n"
   ]
  }
 ],
 "metadata": {
  "kernelspec": {
   "display_name": "Python 3",
   "language": "python",
   "name": "python3"
  },
  "language_info": {
   "codemirror_mode": {
    "name": "ipython",
    "version": 3
   },
   "file_extension": ".py",
   "mimetype": "text/x-python",
   "name": "python",
   "nbconvert_exporter": "python",
   "pygments_lexer": "ipython3",
   "version": "3.6.7"
  }
 },
 "nbformat": 4,
 "nbformat_minor": 2
}
