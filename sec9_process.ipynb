{
 "cells": [
  {
   "cell_type": "markdown",
   "metadata": {},
   "source": [
    "Process: PID，耗CPU操作，使用多进程。  \n",
    "Thread: 进程可以包含很多线程，耗IO操作，用多线程。\n",
    "\n",
    "操作系统开几十个线程thread很容易，开几十个进程process很难。\n",
    "\n",
    "进程Process切换代价 > 线程Thread切换代价"
   ]
  },
  {
   "cell_type": "code",
   "execution_count": 1,
   "metadata": {},
   "outputs": [],
   "source": [
    "from concurrent.futures import ThreadPoolExecutor, ProcessPoolExecutor"
   ]
  },
  {
   "cell_type": "code",
   "execution_count": 5,
   "metadata": {},
   "outputs": [],
   "source": [
    "from concurrent.futures import as_completed, wait\n",
    "import time"
   ]
  },
  {
   "cell_type": "code",
   "execution_count": 4,
   "metadata": {},
   "outputs": [],
   "source": [
    "# CPU 操作\n",
    "def fib(n):\n",
    "    if n<=2:\n",
    "        return 1\n",
    "    else:\n",
    "        return fib(n-1)+fib(n-2)"
   ]
  },
  {
   "cell_type": "code",
   "execution_count": 25,
   "metadata": {},
   "outputs": [
    {
     "name": "stdout",
     "output_type": "stream",
     "text": [
      "832040\n",
      "1346269\n",
      "2178309\n",
      "3524578\n",
      "5702887\n",
      "===============================\n",
      "thread time:2.720202922821045 s\n"
     ]
    }
   ],
   "source": [
    "with ThreadPoolExecutor(2) as executor:\n",
    "    st = time.time()\n",
    "    all_tasks = [executor.submit(fib, num) for num in range(30, 35)]\n",
    "    for future in as_completed(all_tasks):\n",
    "        print(future.result())\n",
    "     \n",
    "    print('===============================')\n",
    "    print('thread time:{} s'.format(str(time.time()-st)))\n",
    "          "
   ]
  },
  {
   "cell_type": "code",
   "execution_count": 24,
   "metadata": {},
   "outputs": [
    {
     "name": "stdout",
     "output_type": "stream",
     "text": [
      "832040\n",
      "1346269\n",
      "2178309\n",
      "3524578\n",
      "5702887\n",
      "===============================\n",
      "process time:1.7755279541015625 s\n"
     ]
    }
   ],
   "source": [
    "with ProcessPoolExecutor(2) as executor:\n",
    "    st = time.time()\n",
    "    all_tasks = [executor.submit(fib, num) for num in range(30, 35)]\n",
    "    for future in as_completed(all_tasks):\n",
    "        print(future.result())\n",
    "     \n",
    "    print('===============================')\n",
    "    print('process time:{} s'.format(str(time.time()-st)))\n",
    "          "
   ]
  },
  {
   "cell_type": "markdown",
   "metadata": {},
   "source": [
    "但运行时process切换时间长于thread切换时间。\n",
    "\n",
    "IO操作时多线程thread能减少切换时间。\n",
    "\n",
    "CPU操作时多进程process能利用更多的核心计算。"
   ]
  },
  {
   "cell_type": "markdown",
   "metadata": {},
   "source": [
    "windows 下 ThreadPoolExecutor, ProcessPoolExecutor 要在中：  \n",
    "`if '__name__' == '__main__':`  \n",
    "Linux Unix mac 不用。\n"
   ]
  },
  {
   "cell_type": "markdown",
   "metadata": {},
   "source": [
    "### 有趣的例子"
   ]
  },
  {
   "cell_type": "code",
   "execution_count": 36,
   "metadata": {},
   "outputs": [
    {
     "name": "stdout",
     "output_type": "stream",
     "text": [
      "hi\n",
      "in child process:67399  parent process:66645\n",
      "hi\n",
      "in parent process:66645  child process:67399\n"
     ]
    }
   ],
   "source": [
    "import os\n",
    "import time\n",
    "\n",
    "pid = os.fork()  # fork 出子进程，仅unix。\n",
    "print('hi')\n",
    "\n",
    "if pid == 0:  # 0 当前为子进程\n",
    "    print('in child process:{}  parent process:{}'.format(os.getpid(), os.getppid()))\n",
    "    os._exit(0)  # 子进程退出返回到主进程。\n",
    "else:  # >0 当前为父进程，<0 error.\n",
    "    print('in parent process:{}  child process:{}'.format(os.getpid(), pid))\n",
    "    \n",
    "time.sleep(1)\n",
    "    "
   ]
  },
  {
   "cell_type": "markdown",
   "metadata": {},
   "source": [
    "子进程拷贝父进程内容，并继续往下执行，运行fork之后的代码。（打印两次hi）  \n",
    "数据子进程与父进程完全隔离。  \n",
    "子进程：返回pid为0  \n",
    "父进程：返回pid当前进程"
   ]
  },
  {
   "cell_type": "code",
   "execution_count": 37,
   "metadata": {},
   "outputs": [],
   "source": [
    "import multiprocessing "
   ]
  },
  {
   "cell_type": "code",
   "execution_count": 44,
   "metadata": {},
   "outputs": [
    {
     "name": "stdout",
     "output_type": "stream",
     "text": [
      "run fib 10:55\n",
      "67610\n"
     ]
    }
   ],
   "source": [
    "def print_fib(n):\n",
    "    num = fib(n)\n",
    "    print('run fib {}:{}'.format(n, num))\n",
    "    return num\n",
    "program = multiprocessing.Process(target=print_fib, args=(10,))\n",
    "program.start()\n",
    "program.join()\n",
    "print(program.pid)  # pid属性 program identifier"
   ]
  },
  {
   "cell_type": "code",
   "execution_count": 45,
   "metadata": {},
   "outputs": [],
   "source": [
    "class MyProcess(multiprocessing.Process):\n",
    "    def run(self):\n",
    "        print_fib(10)\n",
    "        "
   ]
  },
  {
   "cell_type": "code",
   "execution_count": 46,
   "metadata": {},
   "outputs": [
    {
     "name": "stdout",
     "output_type": "stream",
     "text": [
      "run fib 10:55\n",
      "55\n"
     ]
    }
   ],
   "source": [
    "pool = multiprocessing.Pool(multiprocessing.cpu_count())\n",
    "res = pool.apply_async(print_fib, args=(10,))\n",
    "\n",
    "pool.close()\n",
    "pool.join()\n",
    "\n",
    "print(res.get())"
   ]
  },
  {
   "cell_type": "code",
   "execution_count": 48,
   "metadata": {},
   "outputs": [
    {
     "name": "stdout",
     "output_type": "stream",
     "text": [
      "0.1  done!\n",
      "0.3  done!\n",
      "0.5  done!\n",
      "0.3\n",
      "0.5\n",
      "0.1\n"
     ]
    }
   ],
   "source": [
    "def do(n):\n",
    "    time.sleep(n)\n",
    "    print(n, ' done!')\n",
    "    return n\n",
    "\n",
    "pool = multiprocessing.Pool(multiprocessing.cpu_count())\n",
    "for res in pool.imap(do, (0.3, 0.5, 0.1)):\n",
    "    print(res)"
   ]
  },
  {
   "cell_type": "code",
   "execution_count": 49,
   "metadata": {},
   "outputs": [
    {
     "name": "stdout",
     "output_type": "stream",
     "text": [
      "0.1  done!\n",
      "0.3  done!\n",
      "0.1\n",
      "0.3\n",
      "0.5  done!\n",
      "0.5\n"
     ]
    }
   ],
   "source": [
    "pool = multiprocessing.Pool(multiprocessing.cpu_count())\n",
    "for res in pool.imap_unordered(do, (0.3, 0.5, 0.1)):\n",
    "    print(res)"
   ]
  },
  {
   "cell_type": "markdown",
   "metadata": {},
   "source": [
    "### 进程间通信"
   ]
  },
  {
   "cell_type": "markdown",
   "metadata": {},
   "source": [
    "共享全局变量不能通信。  \n",
    "queue.Queue  不能实现进程间通信。  \n",
    "multiprocessing.Queue  能实现进程间通信，但Pool中无法使用。  \n",
    "multiprocessing.Pipe  只能实现两个进程间通信，比multiprocessing.Queue性能要高。   \n",
    "multiprocessing.Manager  多种数据类型、多个进程间通信。  "
   ]
  },
  {
   "cell_type": "code",
   "execution_count": 50,
   "metadata": {},
   "outputs": [],
   "source": [
    "from multiprocessing import Queue, Pipe, Manager, Pool, Process"
   ]
  },
  {
   "cell_type": "markdown",
   "metadata": {},
   "source": [
    "##### multiprocessing.Queue"
   ]
  },
  {
   "cell_type": "code",
   "execution_count": 54,
   "metadata": {},
   "outputs": [
    {
     "name": "stdout",
     "output_type": "stream",
     "text": [
      "producer put: a\n",
      "consumer get: a\n"
     ]
    }
   ],
   "source": [
    "def producer(q):\n",
    "    q.put('a')\n",
    "    print('producer put: a')\n",
    "    \n",
    "def consumer(q):\n",
    "    time.sleep(0.2)\n",
    "    a = q.get()\n",
    "    print('consumer get:', a)\n",
    "\n",
    "q = Queue(3)\n",
    "p0 = Process(target=producer, args=(q,))\n",
    "p1 = Process(target=consumer, args=(q,))\n",
    "\n",
    "p0.start()\n",
    "p1.start()\n",
    "p0.join()\n",
    "p1.join()"
   ]
  },
  {
   "cell_type": "markdown",
   "metadata": {},
   "source": [
    "##### multiprocessing.Manager.Queue"
   ]
  },
  {
   "cell_type": "code",
   "execution_count": 55,
   "metadata": {},
   "outputs": [
    {
     "name": "stdout",
     "output_type": "stream",
     "text": [
      "producer put: a\n",
      "consumer get: a\n"
     ]
    }
   ],
   "source": [
    "def producer(q):\n",
    "    q.put('a')\n",
    "    print('producer put: a')\n",
    "    \n",
    "def consumer(q):\n",
    "    time.sleep(0.2)\n",
    "    a = q.get()\n",
    "    print('consumer get:', a)\n",
    "    \n",
    "q = Manager().Queue(3)  # \n",
    "p0 = Process(target=producer, args=(q,))\n",
    "p1 = Process(target=consumer, args=(q,))\n",
    "\n",
    "p0.start()\n",
    "p1.start()\n",
    "p0.join()\n",
    "p1.join()"
   ]
  },
  {
   "cell_type": "markdown",
   "metadata": {},
   "source": [
    "##### multiprocessing.Pipe()"
   ]
  },
  {
   "cell_type": "code",
   "execution_count": 57,
   "metadata": {},
   "outputs": [
    {
     "name": "stdout",
     "output_type": "stream",
     "text": [
      "consumer get: a\n",
      "producer send: a\n"
     ]
    }
   ],
   "source": [
    "def producer(pipe):\n",
    "    time.sleep(0.5)\n",
    "    pipe.send('a')\n",
    "    print('producer send: a')\n",
    "    \n",
    "def consumer(pipe):\n",
    "    print('consumer get:', pipe.recv())  # 有阻塞\n",
    "    \n",
    "recv_pipe, send_pipe = Pipe()  # \n",
    "p0 = Process(target=producer, args=(send_pipe,))\n",
    "p1 = Process(target=consumer, args=(recv_pipe,))\n",
    "\n",
    "p0.start()\n",
    "p1.start()\n",
    "p0.join()\n",
    "p1.join()"
   ]
  },
  {
   "cell_type": "markdown",
   "metadata": {},
   "source": [
    "##### multiprocessing.Manager.dict"
   ]
  },
  {
   "cell_type": "code",
   "execution_count": 60,
   "metadata": {},
   "outputs": [
    {
     "name": "stdout",
     "output_type": "stream",
     "text": [
      "{'aa': 12, 'bb': 13}\n"
     ]
    }
   ],
   "source": [
    "def puta(d, k, v):\n",
    "    d[k] = v\n",
    "    \n",
    "def putb(q, k, v):\n",
    "    d[k] = v\n",
    "    \n",
    "d = Manager().dict()  # \n",
    "p0 = Process(target=puta, args=(d,'aa', 12))\n",
    "p1 = Process(target=putb, args=(d, 'bb', 13))\n",
    "\n",
    "p0.start()\n",
    "p1.start()\n",
    "p0.join()\n",
    "p1.join()\n",
    "print(d)"
   ]
  },
  {
   "cell_type": "code",
   "execution_count": null,
   "metadata": {},
   "outputs": [],
   "source": []
  }
 ],
 "metadata": {
  "kernelspec": {
   "display_name": "Python 3",
   "language": "python",
   "name": "python3"
  },
  "language_info": {
   "codemirror_mode": {
    "name": "ipython",
    "version": 3
   },
   "file_extension": ".py",
   "mimetype": "text/x-python",
   "name": "python",
   "nbconvert_exporter": "python",
   "pygments_lexer": "ipython3",
   "version": "3.6.7"
  }
 },
 "nbformat": 4,
 "nbformat_minor": 2
}
